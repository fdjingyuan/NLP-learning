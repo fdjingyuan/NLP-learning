{
 "cells": [
  {
   "cell_type": "code",
   "execution_count": 2,
   "metadata": {
    "collapsed": true
   },
   "outputs": [],
   "source": [
    "from nltk.corpus import gutenberg"
   ]
  },
  {
   "cell_type": "code",
   "execution_count": 3,
   "metadata": {
    "collapsed": false
   },
   "outputs": [
    {
     "data": {
      "text/plain": [
       "192427"
      ]
     },
     "execution_count": 3,
     "metadata": {},
     "output_type": "execute_result"
    }
   ],
   "source": [
    "len(gutenberg.words('austen-emma.txt'))"
   ]
  },
  {
   "cell_type": "code",
   "execution_count": 4,
   "metadata": {
    "collapsed": false
   },
   "outputs": [
    {
     "data": {
      "text/plain": [
       "7344"
      ]
     },
     "execution_count": 4,
     "metadata": {},
     "output_type": "execute_result"
    }
   ],
   "source": [
    "len(set([w.lower() for w in gutenberg.words('austen-emma.txt')]))"
   ]
  },
  {
   "cell_type": "code",
   "execution_count": 23,
   "metadata": {
    "collapsed": false
   },
   "outputs": [],
   "source": [
    "import nltk\n",
    "from nltk.book import *"
   ]
  },
  {
   "cell_type": "code",
   "execution_count": 37,
   "metadata": {
    "collapsed": false
   },
   "outputs": [],
   "source": [
    "def fre_50_biagrams(text):\n",
    "    from nltk.corpus import stopwords\n",
    "    stopwords=stopwords.words('english')#停用词\n",
    "    text_new=[w for w in text if w.lower() not in stopwords]\n",
    "    biagrams=nltk.bigrams(text_new)#除停用词外的biagrams\n",
    "    fdist=nltk.FreqDist(biagrams)#biagrams的频率表\n",
    "    vocabulary=list(fdist.keys())#取出频率表关键字\n",
    "    #特别注意：在python3中必须加list才能把dict_key类型转为列表\n",
    "    return vocabulary[:50]#取出前50个biagrams\n",
    "    #return fdist.most_common(50)"
   ]
  },
  {
   "cell_type": "code",
   "execution_count": 38,
   "metadata": {
    "collapsed": true
   },
   "outputs": [
    {
     "data": {
      "text/plain": [
       "[('[', 'Sense'),\n",
       " ('Sense', 'Sensibility'),\n",
       " ('Sensibility', 'Jane'),\n",
       " ('Jane', 'Austen'),\n",
       " ('Austen', '1811'),\n",
       " ('1811', ']'),\n",
       " (']', 'CHAPTER'),\n",
       " ('CHAPTER', '1'),\n",
       " ('1', 'family'),\n",
       " ('family', 'Dashwood'),\n",
       " ('Dashwood', 'long'),\n",
       " ('long', 'settled'),\n",
       " ('settled', 'Sussex'),\n",
       " ('Sussex', '.'),\n",
       " ('.', 'estate'),\n",
       " ('estate', 'large'),\n",
       " ('large', ','),\n",
       " (',', 'residence'),\n",
       " ('residence', 'Norland'),\n",
       " ('Norland', 'Park'),\n",
       " ('Park', ','),\n",
       " (',', 'centre'),\n",
       " ('centre', 'property'),\n",
       " ('property', ','),\n",
       " (',', ','),\n",
       " (',', 'many'),\n",
       " ('many', 'generations'),\n",
       " ('generations', ','),\n",
       " (',', 'lived'),\n",
       " ('lived', 'respectable'),\n",
       " ('respectable', 'manner'),\n",
       " ('manner', 'engage'),\n",
       " ('engage', 'general'),\n",
       " ('general', 'good'),\n",
       " ('good', 'opinion'),\n",
       " ('opinion', 'surrounding'),\n",
       " ('surrounding', 'acquaintance'),\n",
       " ('acquaintance', '.'),\n",
       " ('.', 'late'),\n",
       " ('late', 'owner'),\n",
       " ('owner', 'estate'),\n",
       " ('estate', 'single'),\n",
       " ('single', 'man'),\n",
       " ('man', ','),\n",
       " ('lived', 'advanced'),\n",
       " ('advanced', 'age'),\n",
       " ('age', ','),\n",
       " ('many', 'years'),\n",
       " ('years', 'life'),\n",
       " ('life', ',')]"
      ]
     },
     "execution_count": 38,
     "metadata": {},
     "output_type": "execute_result"
    }
   ],
   "source": [
    "fre_50_biagrams(text2)"
   ]
  },
  {
   "cell_type": "code",
   "execution_count": 39,
   "metadata": {
    "collapsed": true
   },
   "outputs": [
    {
     "data": {
      "text/plain": [
       "[('[', 'Moby'),\n",
       " ('Moby', 'Dick'),\n",
       " ('Dick', 'Herman'),\n",
       " ('Herman', 'Melville'),\n",
       " ('Melville', '1851'),\n",
       " ('1851', ']'),\n",
       " (']', 'ETYMOLOGY'),\n",
       " ('ETYMOLOGY', '.'),\n",
       " ('.', '('),\n",
       " ('(', 'Supplied'),\n",
       " ('Supplied', 'Late'),\n",
       " ('Late', 'Consumptive'),\n",
       " ('Consumptive', 'Usher'),\n",
       " ('Usher', 'Grammar'),\n",
       " ('Grammar', 'School'),\n",
       " ('School', ')'),\n",
       " (')', 'pale'),\n",
       " ('pale', 'Usher'),\n",
       " ('Usher', '--'),\n",
       " ('--', 'threadbare'),\n",
       " ('threadbare', 'coat'),\n",
       " ('coat', ','),\n",
       " (',', 'heart'),\n",
       " ('heart', ','),\n",
       " (',', 'body'),\n",
       " ('body', ','),\n",
       " (',', 'brain'),\n",
       " ('brain', ';'),\n",
       " (';', 'see'),\n",
       " ('see', '.'),\n",
       " ('.', 'ever'),\n",
       " ('ever', 'dusting'),\n",
       " ('dusting', 'old'),\n",
       " ('old', 'lexicons'),\n",
       " ('lexicons', 'grammars'),\n",
       " ('grammars', ','),\n",
       " (',', 'queer'),\n",
       " ('queer', 'handkerchief'),\n",
       " ('handkerchief', ','),\n",
       " (',', 'mockingly'),\n",
       " ('mockingly', 'embellished'),\n",
       " ('embellished', 'gay'),\n",
       " ('gay', 'flags'),\n",
       " ('flags', 'known'),\n",
       " ('known', 'nations'),\n",
       " ('nations', 'world'),\n",
       " ('world', '.'),\n",
       " ('.', 'loved'),\n",
       " ('loved', 'dust'),\n",
       " ('dust', 'old')]"
      ]
     },
     "execution_count": 39,
     "metadata": {},
     "output_type": "execute_result"
    }
   ],
   "source": [
    "fre_50_biagrams(text1)"
   ]
  },
  {
   "cell_type": "code",
   "execution_count": 69,
   "metadata": {
    "collapsed": false
   },
   "outputs": [],
   "source": [
    "import nltk\n",
    "import random\n",
    "text=nltk.corpus.genesis.words('english-kjv.txt')#文本：创世纪\n",
    "bigrams=nltk.bigrams(text)\n",
    "cfd=nltk.ConditionalFreqDist(bigrams)\n",
    "def getword(n,word):\n",
    "    #取出与该词组成biagrams最近的n个词\n",
    "    words=[]\n",
    "    length=len(list(cfd[word].items()))\n",
    "    for i in range(n):\n",
    "        if i<length:#防止下标越界\n",
    "            words.append(list(cfd[word].items())[i][0])\n",
    "    return words\n",
    "\n",
    "def generate_model(n,cfdist,word,num=15):\n",
    "    for i in range(num):\n",
    "        print(word, end=' ')\n",
    "        tmp=getword(n,word)\n",
    "        word=random.choice(tmp)"
   ]
  },
  {
   "cell_type": "code",
   "execution_count": 70,
   "metadata": {
    "collapsed": false,
    "scrolled": true
   },
   "outputs": [
    {
     "name": "stdout",
     "output_type": "stream",
     "text": [
      "living soul . And God created great in our work which is the beginning , living soul may breed abundantly , and the beginning , and the heaven to divide living creature that hath life also . Thus were above all the earth bring a "
     ]
    }
   ],
   "source": [
    "generate_model(3,cfd,'living')\n",
    "generate_model(3,cfd,'living')\n",
    "generate_model(3,cfd,'living')"
   ]
  },
  {
   "cell_type": "code",
   "execution_count": 71,
   "metadata": {
    "collapsed": false
   },
   "outputs": [
    {
     "name": "stdout",
     "output_type": "stream",
     "text": [
      "living . But Noah five yea and God saw the beginning , Let the deep living substance , that moveth upon thy head from thence unto the face : the living substance was upon every thing that may breed abundantly the deep that may remember "
     ]
    }
   ],
   "source": [
    "generate_model(5,cfd,'living')\n",
    "generate_model(5,cfd,'living')\n",
    "generate_model(5,cfd,'living')"
   ]
  },
  {
   "cell_type": "code",
   "execution_count": 73,
   "metadata": {
    "collapsed": false
   },
   "outputs": [
    {
     "name": "stdout",
     "output_type": "stream",
     "text": [
      "living . Therefore is good , upon the face : and for days was parted living . But in his father ; it divide the evening , which hath broken living creature after the Spirit of a woman was not respect . These were under "
     ]
    }
   ],
   "source": [
    "generate_model(10,cfd,'living')\n",
    "generate_model(10,cfd,'living')\n",
    "generate_model(10,cfd,'living')"
   ]
  },
  {
   "cell_type": "code",
   "execution_count": 74,
   "metadata": {
    "collapsed": false
   },
   "outputs": [
    {
     "name": "stdout",
     "output_type": "stream",
     "text": [
      "land Earth ; male of heaven and darkness . And let it was light . land of God said she was light . And let the earth was light : land of the heaven be a tree yielding fruit after their name thereof thou eatest "
     ]
    }
   ],
   "source": [
    "generate_model(3,cfd,'land')\n",
    "generate_model(3,cfd,'land')\n",
    "generate_model(3,cfd,'land')"
   ]
  },
  {
   "cell_type": "code",
   "execution_count": 75,
   "metadata": {
    "collapsed": false
   },
   "outputs": [
    {
     "name": "stdout",
     "output_type": "stream",
     "text": [
      "land is the earth brought back all his work which were finished , the heaven land , and darkness . These were created great deep that hath life also unto land appe and the earth , that hath opened . But of God created he "
     ]
    }
   ],
   "source": [
    "generate_model(5,cfd,'land')\n",
    "generate_model(5,cfd,'land')\n",
    "generate_model(5,cfd,'land')"
   ]
  },
  {
   "cell_type": "code",
   "execution_count": 77,
   "metadata": {
    "collapsed": false
   },
   "outputs": [
    {
     "name": "stdout",
     "output_type": "stream",
     "text": [
      "land went down into thy voice of God divided himself strange unto them , that land went backward , which he put him into Zoar . So he called Babel land unto Abel , the light to grow every living soul of life ; it "
     ]
    }
   ],
   "source": [
    "generate_model(10,cfd,'land')\n",
    "generate_model(10,cfd,'land')\n",
    "generate_model(10,cfd,'land')"
   ]
  },
  {
   "cell_type": "code",
   "execution_count": 79,
   "metadata": {
    "collapsed": false
   },
   "outputs": [
    {
     "name": "stdout",
     "output_type": "stream",
     "text": [
      "she was light : and the beginning , Let there be a tree yielding seed she was upon Adam gave names , Let there was upon Adam called the heaven she was upon the heaven and the beginning , and void ; the heaven to "
     ]
    }
   ],
   "source": [
    "generate_model(3,cfd,'she')\n",
    "generate_model(3,cfd,'she')\n",
    "generate_model(3,cfd,'she')"
   ]
  },
  {
   "cell_type": "code",
   "execution_count": 81,
   "metadata": {
    "collapsed": false
   },
   "outputs": [
    {
     "name": "stdout",
     "output_type": "stream",
     "text": [
      "she gave also in his nostrils was upon every herb of God created the face she was so Noah five and God created and the earth . But unto one she conceived , that it : and there is the deep broken up a tree "
     ]
    }
   ],
   "source": [
    "generate_model(5,cfd,'she')\n",
    "generate_model(5,cfd,'she')\n",
    "generate_model(5,cfd,'she')"
   ]
  },
  {
   "cell_type": "code",
   "execution_count": 86,
   "metadata": {
    "collapsed": false
   },
   "outputs": [
    {
     "name": "stdout",
     "output_type": "stream",
     "text": [
      "she gave straw and the Spirit of all that creepeth upon thy li And to she bare a flaming sword ? the deep and it and the Spirit of life she was in it which God divided them have given you : The earth in "
     ]
    }
   ],
   "source": [
    "generate_model(10,cfd,'she')\n",
    "generate_model(10,cfd,'she')\n",
    "generate_model(10,cfd,'she')"
   ]
  }
 ],
 "metadata": {
  "kernelspec": {
   "display_name": "Python 3",
   "language": "python",
   "name": "python3"
  },
  "language_info": {
   "codemirror_mode": {
    "name": "ipython",
    "version": 3
   },
   "file_extension": ".py",
   "mimetype": "text/x-python",
   "name": "python",
   "nbconvert_exporter": "python",
   "pygments_lexer": "ipython3",
   "version": "3.6.0"
  }
 },
 "nbformat": 4,
 "nbformat_minor": 2
}
