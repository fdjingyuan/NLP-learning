{
 "cells": [
  {
   "cell_type": "code",
   "execution_count": 2,
   "metadata": {
    "collapsed": false
   },
   "outputs": [],
   "source": [
    "import nltk"
   ]
  },
  {
   "cell_type": "markdown",
   "metadata": {},
   "source": [
    "1.\t写程序处理布朗语料库，找到以下问题的答案：a. 哪些名词常以它们复数形式而不是它们的单数形式出现？（只考虑常规的复数形式，-s 后缀形式的）。"
   ]
  },
  {
   "cell_type": "code",
   "execution_count": 121,
   "metadata": {
    "collapsed": false
   },
   "outputs": [
    {
     "name": "stdout",
     "output_type": "stream",
     "text": [
      "['years', 'eyes', 'days', 'things', 'members', 'others', 'hands', 'words', 'times', 'problems', 'areas', 'students', 'lines', 'minutes', 'schools', 'months', 'values', 'conditions', 'hours', 'miles']\n"
     ]
    }
   ],
   "source": [
    "text = nltk.corpus.brown.tagged_words()\n",
    "def findtags(tag_prefix, tagged_text):\n",
    "    cfd = nltk.ConditionalFreqDist((tag,word) for (word,tag) in tagged_text\n",
    "                                  if tag.startswith(tag_prefix))\n",
    "    return {tag:cfd[tag].most_common() for tag in cfd.conditions()}\n",
    "\n",
    "tagdict = findtags('NN',text)\n",
    "result = [word[0] for word in tagdict['NNS'] if word[0].endswith('s')]\n",
    "print(result[:20])#打印出最常以复数形式出现的名词（只考虑-s后缀形式）"
   ]
  },
  {
   "cell_type": "markdown",
   "metadata": {},
   "source": [
    "b. 哪个词的不同词性标记数目最多？"
   ]
  },
  {
   "cell_type": "code",
   "execution_count": 59,
   "metadata": {
    "collapsed": false
   },
   "outputs": [
    {
     "data": {
      "text/plain": [
       "('down', 6)"
      ]
     },
     "execution_count": 59,
     "metadata": {},
     "output_type": "execute_result"
    }
   ],
   "source": [
    "from nltk.corpus import brown\n",
    "brown_news_tagged = brown.tagged_words(tagset='universal')\n",
    "data = nltk.ConditionalFreqDist((word.lower(), tag) \n",
    "                                for (word, tag) in brown_news_tagged)\n",
    "\n",
    "max([(word, len(data[word])) for word in data], key=lambda x: x[1])"
   ]
  },
  {
   "cell_type": "code",
   "execution_count": 60,
   "metadata": {
    "collapsed": false
   },
   "outputs": [
    {
     "data": {
      "text/plain": [
       "[('PRT', 696), ('ADP', 192), ('NOUN', 2), ('ADV', 2), ('VERB', 2), ('ADJ', 1)]"
      ]
     },
     "execution_count": 60,
     "metadata": {},
     "output_type": "execute_result"
    }
   ],
   "source": [
    "[(word,data['down'][word]) for word in data['down']]"
   ]
  },
  {
   "cell_type": "code",
   "execution_count": 55,
   "metadata": {
    "collapsed": true
   },
   "outputs": [
    {
     "data": {
      "text/plain": [
       "[('that', 4),\n",
       " ('best', 4),\n",
       " ('present', 4),\n",
       " ('close', 4),\n",
       " ('open', 4),\n",
       " ('further', 3),\n",
       " ('to', 3),\n",
       " ('a', 3),\n",
       " ('such', 3),\n",
       " ('next', 3),\n",
       " ('under', 3),\n",
       " ('back', 3),\n",
       " ('top', 3),\n",
       " ('force', 3),\n",
       " ('out', 3),\n",
       " ('head', 3),\n",
       " ('near', 3),\n",
       " ('about', 3),\n",
       " ('while', 3),\n",
       " ('last', 3)]"
      ]
     },
     "execution_count": 55,
     "metadata": {},
     "output_type": "execute_result"
    }
   ],
   "source": [
    "common = sorted([(word,len(data[word])) for word in data], reverse = True, key=lambda x: x[1])\n",
    "common[:20]"
   ]
  },
  {
   "cell_type": "markdown",
   "metadata": {},
   "source": [
    "c. 按频率递减的顺序列出标记。前20 个最频繁的词性标记代表什么？"
   ]
  },
  {
   "cell_type": "code",
   "execution_count": 92,
   "metadata": {
    "collapsed": false
   },
   "outputs": [],
   "source": [
    "tagset = nltk.data.load('help/tagsets/upenn_tagset.pickle')\n",
    "get_explain = lambda tag: tagset[tag][0] + \"\\n\"  + tagset[tag][1] if tag in tagset else \"Not Found!\"\n",
    "tags = nltk.FreqDist(tag for (word,tag) in nltk.corpus.brown.tagged_words())\n",
    "common = sorted([(tag,tags[tag]) for tag in tags], reverse = True, key=lambda x:x[1])\n",
    "result = [(word, get_explain(word)) for (word, _) in common[:20]]"
   ]
  },
  {
   "cell_type": "code",
   "execution_count": 95,
   "metadata": {
    "collapsed": true
   },
   "outputs": [
    {
     "name": "stdout",
     "output_type": "stream",
     "text": [
      "NN: noun, common, singular or mass\n",
      "common-carrier cabbage knuckle-duster Casino afghan shed thermostat investment slide humour falloff slick wind hyena override subhumanity machinist ... \n",
      "\n",
      "IN: preposition or conjunction, subordinating\n",
      "astride among uppon whether out inside pro despite on by throughout below within for towards near behind atop around if like until below next into if beside ... \n",
      "\n",
      "AT: Not Found!\n",
      "\n",
      "JJ: adjective or numeral, ordinal\n",
      "third ill-mannered pre-war regrettable oiled calamitous first separable ectoplasmic battery-powered participatory fourth still-to-be-named multilingual multi-disciplinary ... \n",
      "\n",
      ".: sentence terminator\n",
      ". ! ? \n",
      "\n",
      ",: comma\n",
      ", \n",
      "\n",
      "NNS: noun, common, plural\n",
      "undergraduates scotches bric-a-brac products bodyguards facets coasts divestitures storehouses designs clubs fragrances averages subjectivists apprehensions muses factory-jobs ... \n",
      "\n",
      "CC: conjunction, coordinating\n",
      "& 'n and both but either et for less minus neither nor or plus so therefore times v. versus vs. whether yet \n",
      "\n",
      "RB: adverb\n",
      "occasionally unabatingly maddeningly adventurously professedly stirringly prominently technologically magisterially predominately swiftly fiscally pitilessly ... \n",
      "\n",
      "NP: Not Found!\n",
      "\n",
      "VB: verb, base form\n",
      "ask assemble assess assign assume atone attention avoid bake balkanize bank begin behold believe bend benefit bevel beware bless boil bomb boost brace break bring broil brush build ... \n",
      "\n",
      "VBN: verb, past participle\n",
      "multihulled dilapidated aerosolized chaired languished panelized used experimented flourished imitated reunifed factored condensed sheared unsettled primed dubbed desired ... \n",
      "\n",
      "VBD: verb, past tense\n",
      "dipped pleaded swiped regummed soaked tidied convened halted registered cushioned exacted snubbed strode aimed adopted belied figgered speculated wore appreciated contemplated ... \n",
      "\n",
      "CS: Not Found!\n",
      "\n",
      "PPS: Not Found!\n",
      "\n",
      "VBG: verb, present participle or gerund\n",
      "telegraphing stirring focusing angering judging stalling lactating hankerin' alleging veering capping approaching traveling besieging encrypting interrupting erasing wincing ... \n",
      "\n",
      "PP$: Not Found!\n",
      "\n",
      "TO: \"to\" as preposition or infinitive marker\n",
      "to \n",
      "\n",
      "PPSS: Not Found!\n",
      "\n",
      "CD: numeral, cardinal\n",
      "mid-1890 nine-thirty forty-two one-tenth ten million 0.5 one forty-seven 1987 twenty '79 zero two 78-degrees eighty-four IX '60s .025 fifteen 271,124 dozen quintillion DM2,000 ... \n",
      "\n"
     ]
    }
   ],
   "source": [
    "for word, explain in result:\n",
    "    print(\"{}: {}\".format(word, explain))\n",
    "    print()"
   ]
  },
  {
   "cell_type": "markdown",
   "metadata": {},
   "source": [
    "d. 名词后面最常见的是哪些词性标记？这些标记代表什么？"
   ]
  },
  {
   "cell_type": "code",
   "execution_count": 113,
   "metadata": {
    "collapsed": true
   },
   "outputs": [
    {
     "name": "stdout",
     "output_type": "stream",
     "text": [
      "IN: preposition or conjunction, subordinating\n",
      "astride among uppon whether out inside pro despite on by throughout below within for towards near behind atop around if like until below next into if beside ... \n",
      "\n",
      ".: sentence terminator\n",
      ". ! ? \n",
      "\n",
      ",: comma\n",
      ", \n",
      "\n",
      "NN: noun, common, singular or mass\n",
      "common-carrier cabbage knuckle-duster Casino afghan shed thermostat investment slide humour falloff slick wind hyena override subhumanity machinist ... \n",
      "\n",
      "CC: conjunction, coordinating\n",
      "& 'n and both but either et for less minus neither nor or plus so therefore times v. versus vs. whether yet \n",
      "\n",
      "NNS: noun, common, plural\n",
      "undergraduates scotches bric-a-brac products bodyguards facets coasts divestitures storehouses designs clubs fragrances averages subjectivists apprehensions muses factory-jobs ... \n",
      "\n",
      "BEZ: Not Found!\n",
      "\n",
      "VBD: verb, past tense\n",
      "dipped pleaded swiped regummed soaked tidied convened halted registered cushioned exacted snubbed strode aimed adopted belied figgered speculated wore appreciated contemplated ... \n",
      "\n",
      "CS: Not Found!\n",
      "\n",
      "'': closing quotation mark\n",
      "' '' \n",
      "\n"
     ]
    }
   ],
   "source": [
    "brown_tagged = brown.tagged_words()\n",
    "word_after_none = [b[1] for (a, b) in nltk.bigrams(brown_tagged) if a[1] == 'NN']\n",
    "cfd = nltk.FreqDist(word_after_none)\n",
    "tag_result = cfd.most_common(10)\n",
    "result = [(tag, get_explain(tag)) for (tag, _) in tag_result]\n",
    "for word, explain in result:\n",
    "    print(\"{}: {}\".format(word, explain))\n",
    "    print()"
   ]
  },
  {
   "cell_type": "markdown",
   "metadata": {},
   "source": [
    "例5-4 绘制曲线显示查找标注器的性能随模型的大小增加的变化。绘制当训练数据量变化时unigram 标注器的性能曲线。"
   ]
  },
  {
   "cell_type": "code",
   "execution_count": 32,
   "metadata": {
    "collapsed": true
   },
   "outputs": [
    {
     "data": {
      "image/png": "[encoded data removed]",
      "text/plain": [
       "<matplotlib.figure.Figure at 0x1b81c14bda0>"
      ]
     },
     "metadata": {},
     "output_type": "display_data"
    }
   ],
   "source": [
    "def performance(cfd, wordlist):\n",
    "    lt = dict((word, cfd[word].max()) for word in wordlist)#最有可能是哪一个词性（频率最大的那个）\n",
    "    baseline_tagger = nltk.UnigramTagger(model=lt, backoff=nltk.DefaultTagger('NN'))#unigram标注不了的全部标为NN\n",
    "    return baseline_tagger.evaluate(brown.tagged_sents(categories='news'))#返回性能\n",
    "\n",
    "def display():\n",
    "    import pylab\n",
    "    word_freqs = nltk.FreqDist(brown.words(categories='news')).most_common()\n",
    "    words_by_freq = [w for (w, _) in word_freqs]#按照频率顺序排列所有词\n",
    "    cfd = nltk.ConditionalFreqDist(brown.tagged_words(categories='news'))#对已经标注的单词建立条件频率表\n",
    "    sizes = 2 ** pylab.arange(15)#一维的矩阵\n",
    "    perfs = [performance(cfd, words_by_freq[:size]) for size in sizes]\n",
    "    pylab.plot(sizes, perfs, '-bo')\n",
    "    pylab.title('Lookup Tagger Performance with Varying Model Size')\n",
    "    pylab.xlabel('Model Size')\n",
    "    pylab.ylabel('Performance')\n",
    "    pylab.show()\n",
    "display()"
   ]
  },
  {
   "cell_type": "code",
   "execution_count": 45,
   "metadata": {
    "collapsed": false
   },
   "outputs": [
    {
     "data": {
      "image/png": "[encoded data removed]",
      "text/plain": [
       "<matplotlib.figure.Figure at 0x1b81bd974e0>"
      ]
     },
     "metadata": {},
     "output_type": "display_data"
    }
   ],
   "source": [
    "def performance(cfd, wordlist):\n",
    "    lt = dict((word, cfd[word].max()) for word in wordlist)#最有可能是哪一个词性（频率最大的那个）\n",
    "    baseline_tagger = nltk.UnigramTagger(model=lt, backoff=nltk.DefaultTagger('NN'))#unigram标注不了的全部标为NN\n",
    "    return baseline_tagger.evaluate(brown.tagged_sents(categories='news'))#测试集是brown.tagged_sents，返回性能\n",
    "\n",
    "def display_performance():\n",
    "    import pylab\n",
    "    all_words = brown.words(categories='news')\n",
    "    all_tagged_words = brown.tagged_words(categories='news')\n",
    "    data_sizes = [2 ** i for i in range(16)]#训练集数据的大小:1,2,4,8,16...\n",
    "    perfs = []#存所有性能指标\n",
    "    for data_size in data_sizes:\n",
    "        words = all_words[:data_size]#按照不同大小分割数据集，words为训练集\n",
    "        word_freqs = nltk.FreqDist(words).most_common()\n",
    "        words_by_freq = [w for (w, _) in word_freqs]#按照频率顺序排列训练集的词\n",
    "        cfd = nltk.ConditionalFreqDist(all_tagged_words[:data_size])#得到训练集的标签\n",
    "        perfs.append(performance(cfd, words_by_freq))\n",
    "    pylab.plot(data_sizes, perfs, '-bo')\n",
    "    pylab.title('Unigram Tagger Performance with Varying Training Data Size')\n",
    "    pylab.xlabel('Amount of data')\n",
    "    pylab.ylabel('Performance')\n",
    "    pylab.show()\n",
    "\n",
    "display_performance()"
   ]
  },
  {
   "cell_type": "code",
   "execution_count": null,
   "metadata": {
    "collapsed": true
   },
   "outputs": [],
   "source": []
  }
 ],
 "metadata": {
  "kernelspec": {
   "display_name": "Python 3",
   "language": "python",
   "name": "python3"
  },
  "language_info": {
   "codemirror_mode": {
    "name": "ipython",
    "version": 3
   },
   "file_extension": ".py",
   "mimetype": "text/x-python",
   "name": "python",
   "nbconvert_exporter": "python",
   "pygments_lexer": "ipython3",
   "version": "3.6.0"
  }
 },
 "nbformat": 4,
 "nbformat_minor": 2
}
