{
 "cells": [
  {
   "cell_type": "markdown",
   "metadata": {},
   "source": [
    "# 第五章 词性（词类）和词性标注"
   ]
  },
  {
   "cell_type": "code",
   "execution_count": 1,
   "metadata": {
    "collapsed": true
   },
   "outputs": [],
   "source": [
    "%matplotlib inline\n",
    "import nltk\n",
    "from nltk import word_tokenizeize"
   ]
  },
  {
   "cell_type": "markdown",
   "metadata": {},
   "source": [
    "## 词性和词性标注"
   ]
  },
  {
   "cell_type": "markdown",
   "metadata": {},
   "source": [
    "使用词性标注器处理词的序列，为每个词附加一个词性标记"
   ]
  },
  {
   "cell_type": "code",
   "execution_count": 2,
   "metadata": {
    "collapsed": false
   },
   "outputs": [
    {
     "data": {
      "text/plain": [
       "[('And', 'CC'),\n",
       " ('now', 'RB'),\n",
       " ('for', 'IN'),\n",
       " ('something', 'NN'),\n",
       " ('completely', 'RB'),\n",
       " ('different', 'JJ')]"
      ]
     },
     "execution_count": 2,
     "metadata": {},
     "output_type": "execute_result"
    }
   ],
   "source": [
    "#无歧义的情况\n",
    "text = word_tokenize(\"And now for something completely different\")\n",
    "nltk.pos_tag(text)"
   ]
  },
  {
   "cell_type": "code",
   "execution_count": 3,
   "metadata": {
    "collapsed": false
   },
   "outputs": [
    {
     "data": {
      "text/plain": [
       "[('They', 'PRP'),\n",
       " ('refuse', 'VBP'),\n",
       " ('to', 'TO'),\n",
       " ('permit', 'VB'),\n",
       " ('us', 'PRP'),\n",
       " ('to', 'TO'),\n",
       " ('obtain', 'VB'),\n",
       " ('the', 'DT'),\n",
       " ('refuse', 'NN'),\n",
       " ('permit', 'NN')]"
      ]
     },
     "execution_count": 3,
     "metadata": {},
     "output_type": "execute_result"
    }
   ],
   "source": [
    "#有歧义的情况\n",
    "text = word_tokenize(\"They refuse to permit us to obtain the refuse permit\")\n",
    "nltk.pos_tag(text)"
   ]
  },
  {
   "cell_type": "markdown",
   "metadata": {},
   "source": [
    "### 词性标注器的作用"
   ]
  },
  {
   "cell_type": "markdown",
   "metadata": {},
   "source": [
    "表征词语的用法，为结构分析服务"
   ]
  },
  {
   "cell_type": "code",
   "execution_count": 6,
   "metadata": {
    "collapsed": false
   },
   "outputs": [
    {
     "name": "stdout",
     "output_type": "stream",
     "text": [
      "man time day year car moment world house family child country boy\n",
      "state job place way war girl work word\n"
     ]
    }
   ],
   "source": [
    "text = nltk.Text(word.lower() for word in nltk.corpus.brown.words())\n",
    "text.similar('woman')\n",
    "#搜索woman找到名词，搜索bought 找到是动词；搜索over 会找到介词；搜索the 找到限定词"
   ]
  },
  {
   "cell_type": "markdown",
   "metadata": {},
   "source": [
    "## 表示已标注的标识符"
   ]
  },
  {
   "cell_type": "markdown",
   "metadata": {},
   "source": [
    "已标注的标识符使用由标识符和标记组成的元组来表示\n",
    "\n",
    "可以使用函数str2tuple从表示已标注的标识符的标准字符串创建这样的元组"
   ]
  },
  {
   "cell_type": "code",
   "execution_count": 8,
   "metadata": {
    "collapsed": false
   },
   "outputs": [
    {
     "data": {
      "text/plain": [
       "('fly', 'NN')"
      ]
     },
     "execution_count": 8,
     "metadata": {},
     "output_type": "execute_result"
    }
   ],
   "source": [
    "tagged_token = nltk.tag.str2tuple('fly/NN')\n",
    "tagged_token"
   ]
  },
  {
   "cell_type": "code",
   "execution_count": 9,
   "metadata": {
    "collapsed": false
   },
   "outputs": [
    {
     "data": {
      "text/plain": [
       "'fly'"
      ]
     },
     "execution_count": 9,
     "metadata": {},
     "output_type": "execute_result"
    }
   ],
   "source": [
    "tagged_token[0]"
   ]
  },
  {
   "cell_type": "markdown",
   "metadata": {},
   "source": [
    "从一个字符串构造一个已经标注标识符的链表"
   ]
  },
  {
   "cell_type": "code",
   "execution_count": 11,
   "metadata": {
    "collapsed": false
   },
   "outputs": [
    {
     "data": {
      "text/plain": [
       "[('This', 'AT'), ('is', 'IN'), ('a', 'AT'), ('wonderful', 'JJ'), ('day', 'NN')]"
      ]
     },
     "execution_count": 11,
     "metadata": {},
     "output_type": "execute_result"
    }
   ],
   "source": [
    "sent = \"This/AT is/IN a/AT wonderful/JJ day/NN\"\n",
    "[nltk.tag.str2tuple(t) for t in sent.split()]"
   ]
  },
  {
   "cell_type": "markdown",
   "metadata": {},
   "source": [
    "## 读取标注语料库"
   ]
  },
  {
   "cell_type": "code",
   "execution_count": 12,
   "metadata": {
    "collapsed": false
   },
   "outputs": [
    {
     "data": {
      "text/plain": [
       "[('The', 'AT'), ('Fulton', 'NP-TL'), ...]"
      ]
     },
     "execution_count": 12,
     "metadata": {},
     "output_type": "execute_result"
    }
   ],
   "source": [
    "nltk.corpus.brown.tagged_words()"
   ]
  },
  {
   "cell_type": "code",
   "execution_count": 13,
   "metadata": {
    "collapsed": false
   },
   "outputs": [
    {
     "name": "stdout",
     "output_type": "stream",
     "text": [
      "[('now', 'RB'), ('im', 'PRP'), ('left', 'VBD'), ...]\n"
     ]
    }
   ],
   "source": [
    "print(nltk.corpus.nps_chat.tagged_words())"
   ]
  },
  {
   "cell_type": "code",
   "execution_count": 14,
   "metadata": {
    "collapsed": false
   },
   "outputs": [
    {
     "data": {
      "text/plain": [
       "[('Pierre', 'NNP'), ('Vinken', 'NNP'), (',', ','), ...]"
      ]
     },
     "execution_count": 14,
     "metadata": {},
     "output_type": "execute_result"
    }
   ],
   "source": [
    "nltk.corpus.treebank.tagged_words()"
   ]
  },
  {
   "cell_type": "code",
   "execution_count": 15,
   "metadata": {
    "collapsed": false
   },
   "outputs": [
    {
     "data": {
      "text/plain": [
       "[('Pierre', 'NOUN'), ('Vinken', 'NOUN'), (',', '.'), ...]"
      ]
     },
     "execution_count": 15,
     "metadata": {},
     "output_type": "execute_result"
    }
   ],
   "source": [
    "nltk.corpus.treebank.tagged_words(tagset='universal')"
   ]
  },
  {
   "cell_type": "markdown",
   "metadata": {},
   "source": [
    "### 常见词性"
   ]
  },
  {
   "cell_type": "code",
   "execution_count": 18,
   "metadata": {
    "collapsed": false
   },
   "outputs": [
    {
     "data": {
      "text/plain": [
       "[('NN', 13162),\n",
       " ('IN', 10616),\n",
       " ('AT', 8893),\n",
       " ('NP', 6866),\n",
       " (',', 5133),\n",
       " ('NNS', 5066),\n",
       " ('.', 4452),\n",
       " ('JJ', 4392),\n",
       " ('CC', 2664),\n",
       " ('VBD', 2524),\n",
       " ('NN-TL', 2486),\n",
       " ('VB', 2440),\n",
       " ('VBN', 2269),\n",
       " ('RB', 2166),\n",
       " ('CD', 2020),\n",
       " ('CS', 1509),\n",
       " ('VBG', 1398),\n",
       " ('TO', 1237),\n",
       " ('PPS', 1056),\n",
       " ('PP$', 1051),\n",
       " ('MD', 1031),\n",
       " ('AP', 923),\n",
       " ('NP-TL', 741),\n",
       " ('``', 732),\n",
       " ('BEZ', 730),\n",
       " ('BEDZ', 716),\n",
       " (\"''\", 702),\n",
       " ('JJ-TL', 689),\n",
       " ('PPSS', 602),\n",
       " ('DT', 589),\n",
       " ('BE', 525),\n",
       " ('VBZ', 519),\n",
       " ('NR', 495),\n",
       " ('RP', 482),\n",
       " ('QL', 468),\n",
       " ('PPO', 412),\n",
       " ('WPS', 395),\n",
       " ('NNS-TL', 344),\n",
       " ('WDT', 343),\n",
       " ('BER', 328),\n",
       " ('WRB', 328),\n",
       " ('OD', 309),\n",
       " ('HVZ', 301),\n",
       " ('--', 300),\n",
       " ('NP$', 279),\n",
       " ('HV', 265),\n",
       " ('HVD', 262),\n",
       " ('*', 256),\n",
       " ('BED', 252),\n",
       " ('NPS', 215),\n",
       " ('BEN', 212),\n",
       " ('NN$', 210),\n",
       " ('DTI', 205),\n",
       " ('NP-HL', 186),\n",
       " ('ABN', 183),\n",
       " ('NN-HL', 171),\n",
       " ('IN-TL', 164),\n",
       " ('EX', 161),\n",
       " (')', 151),\n",
       " ('(', 148),\n",
       " ('JJR', 145),\n",
       " (':', 137),\n",
       " ('DTS', 136),\n",
       " ('JJT', 100),\n",
       " ('CD-TL', 96),\n",
       " ('NNS-HL', 92),\n",
       " ('PN', 89),\n",
       " ('RBR', 88),\n",
       " ('VBN-TL', 87),\n",
       " ('ABX', 73),\n",
       " ('NN$-TL', 69),\n",
       " ('IN-HL', 65),\n",
       " ('DOD', 64),\n",
       " ('DO', 63),\n",
       " ('BEG', 57),\n",
       " (',-HL', 55),\n",
       " ('VBN-HL', 53),\n",
       " ('AT-TL', 50),\n",
       " ('NNS$', 50),\n",
       " ('CD-HL', 50),\n",
       " ('JJS', 49),\n",
       " ('CC-TL', 46),\n",
       " (\"'\", 46),\n",
       " ('JJ-HL', 46),\n",
       " ('MD*', 43),\n",
       " ('VBZ-HL', 39),\n",
       " ('PPL', 36),\n",
       " ('PPSS+MD', 31),\n",
       " ('PPS+BEZ', 31),\n",
       " ('OD-TL', 30),\n",
       " ('DOZ', 26),\n",
       " ('VB-HL', 25),\n",
       " ('NR$', 24),\n",
       " ('FW-NN', 22),\n",
       " ('WP$', 22),\n",
       " ('PPLS', 21),\n",
       " ('ABL', 21),\n",
       " ('PPSS+BER', 20),\n",
       " ('(-HL', 20),\n",
       " (')-HL', 20),\n",
       " ('NNS$-TL', 20),\n",
       " ('.-HL', 20),\n",
       " ('PPSS+HV', 19),\n",
       " ('PPSS+BEM', 18),\n",
       " ('HVN', 18),\n",
       " ('NPS$', 17),\n",
       " ('DO*', 17),\n",
       " ('FW-NN-TL', 16),\n",
       " ('VBG-TL', 15),\n",
       " ('DOD*', 15),\n",
       " ('RB-HL', 15),\n",
       " ('NPS-TL', 15),\n",
       " ('AT-HL', 14),\n",
       " ('FW-IN', 14),\n",
       " ('NR-TL', 14),\n",
       " ('HVG', 14),\n",
       " ('BEM', 13),\n",
       " ('DOZ*', 13),\n",
       " ('VBG-HL', 12),\n",
       " ('NN-TL-HL', 12),\n",
       " ('QLP', 12),\n",
       " ('DT+BEZ', 12),\n",
       " (':-HL', 12),\n",
       " ('UH', 12),\n",
       " ('FW-JJ-TL', 12),\n",
       " ('NP$-TL', 11),\n",
       " ('WPO', 9),\n",
       " ('DTX', 8),\n",
       " ('PPS+MD', 8),\n",
       " ('BEZ*', 8),\n",
       " ('VB-TL', 8),\n",
       " ('RB-TL', 8),\n",
       " ('AP-HL', 7),\n",
       " ('CC-HL', 7),\n",
       " ('VBD-HL', 6),\n",
       " ('TO-HL', 6),\n",
       " ('FW-AT-TL', 6),\n",
       " ('RBT', 5),\n",
       " ('MD-HL', 5),\n",
       " ('PPS+HVZ', 4),\n",
       " ('RP-HL', 4),\n",
       " ('JJR-HL', 4),\n",
       " ('JJR-TL', 4),\n",
       " ('BER*', 4),\n",
       " ('BEDZ*', 3),\n",
       " ('NPS-HL', 3),\n",
       " ('BEZ-HL', 3),\n",
       " ('PP$$', 3),\n",
       " ('FW-JJ', 3),\n",
       " ('NN-NC', 3),\n",
       " ('FW-AT', 3),\n",
       " ('JJS-TL', 2),\n",
       " ('FW-IN+NN', 2),\n",
       " ('JJT-HL', 2),\n",
       " ('EX+BEZ', 2),\n",
       " ('FW-NNS', 2),\n",
       " ('NN$-HL', 2),\n",
       " ('HVD*', 2),\n",
       " ('NR-HL', 2),\n",
       " ('WPS+BEZ', 2),\n",
       " ('DTI-HL', 2),\n",
       " ('CD$', 2),\n",
       " ('NNS$-HL', 2),\n",
       " ('BER-HL', 1),\n",
       " ('MD*-HL', 1),\n",
       " ('CS-HL', 1),\n",
       " ('DT$', 1),\n",
       " ('FW-DT', 1),\n",
       " ('AP-TL', 1),\n",
       " ('UH-TL', 1),\n",
       " ('VBN-TL-HL', 1),\n",
       " ('NNS-TL-HL', 1),\n",
       " ('DT-HL', 1),\n",
       " ('BE-HL', 1),\n",
       " ('PPSS+HVD', 1),\n",
       " ('NP-TL-HL', 1),\n",
       " ('MD+HV', 1),\n",
       " ('OD-HL', 1),\n",
       " ('VBD-TL', 1),\n",
       " ('FW-CC', 1),\n",
       " ('BEDZ-HL', 1),\n",
       " ('AP$', 1),\n",
       " ('NP+BEZ', 1),\n",
       " ('MD-TL', 1),\n",
       " ('PN+HVZ', 1),\n",
       " ('ABN-HL', 1),\n",
       " ('PPS+BEZ-HL', 1),\n",
       " ('HVD-HL', 1),\n",
       " ('RB$', 1),\n",
       " ('FW-AT-HL', 1),\n",
       " ('DO-HL', 1),\n",
       " ('PP$-TL', 1),\n",
       " ('FW-IN-TL', 1),\n",
       " ('*-HL', 1),\n",
       " ('PN-HL', 1),\n",
       " ('PN$', 1),\n",
       " ('BER-TL', 1),\n",
       " ('TO-TL', 1),\n",
       " ('BED*', 1),\n",
       " ('RB+BEZ', 1),\n",
       " ('VB+PPO', 1),\n",
       " ('PPSS-HL', 1),\n",
       " ('HVZ*', 1),\n",
       " ('FW-IN+NN-TL', 1),\n",
       " ('FW-IN+AT-TL', 1),\n",
       " ('JJ-NC', 1),\n",
       " ('NR$-TL', 1),\n",
       " ('FW-PP$-NC', 1),\n",
       " ('FW-VB', 1),\n",
       " ('FW-VB-NC', 1),\n",
       " ('JJR-NC', 1),\n",
       " ('NPS$-TL', 1),\n",
       " ('QL-TL', 1),\n",
       " ('FW-*', 1),\n",
       " ('FW-CD', 1),\n",
       " ('WQL', 1),\n",
       " ('FW-WDT', 1),\n",
       " ('WDT+BEZ', 1)]"
      ]
     },
     "execution_count": 18,
     "metadata": {},
     "output_type": "execute_result"
    }
   ],
   "source": [
    "from nltk.corpus import brown\n",
    "brown_news_tagged = brown.tagged_words(categories = 'news')\n",
    "tag_fd = nltk.FreqDist(tag for (word,tag) in brown_news_tagged)\n",
    "tag_fd.most_common()"
   ]
  },
  {
   "cell_type": "code",
   "execution_count": 19,
   "metadata": {
    "collapsed": true
   },
   "outputs": [
    {
     "data": {
      "text/plain": [
       "dict_keys(['AT', 'NP-TL', 'NN-TL', 'JJ-TL', 'VBD', 'NR', 'NN', 'IN', 'NP$', 'JJ', '``', \"''\", 'CS', 'DTI', 'NNS', '.', 'RBR', ',', 'WDT', 'HVD', 'VBZ', 'CC', 'IN-TL', 'BEDZ', 'VBN', 'NP', 'BEN', 'TO', 'VB', 'RB', 'DT', 'PPS', 'DOD', 'AP', 'BER', 'HV', 'DTS', 'VBG', 'PPO', 'QL', 'JJT', 'ABX', 'NN-HL', 'VBN-HL', 'WRB', 'CD', 'MD', 'BE', 'JJR', 'VBG-TL', 'BEZ', 'NN$-TL', 'HVZ', 'ABN', 'PN', 'PPSS', 'PP$', 'DO', 'NN$', 'NNS-HL', 'WPS', '*', 'EX', 'VB-HL', ':', '(', ')', 'NNS-TL', 'NPS', 'JJS', 'RP', '--', 'BED', 'OD', 'BEG', 'AT-HL', 'VBG-HL', 'AT-TL', 'PPL', 'DOZ', 'NP-HL', 'NR$', 'DOD*', 'BEDZ*', ',-HL', 'CC-TL', 'MD*', 'NNS$', 'PPSS+BER', \"'\", 'PPSS+BEM', 'CD-TL', 'RBT', '(-HL', ')-HL', 'MD-HL', 'VBZ-HL', 'IN-HL', 'JJ-HL', 'PPLS', 'CD-HL', 'WPO', 'JJS-TL', 'ABL', 'BER-HL', 'PPS+HVZ', 'VBD-HL', 'RP-HL', 'MD*-HL', 'AP-HL', 'CS-HL', 'DT$', 'HVN', 'FW-IN', 'FW-DT', 'VBN-TL', 'NR-TL', 'NNS$-TL', 'FW-NN', 'HVG', 'DTX', 'OD-TL', 'BEM', 'RB-HL', 'PPSS+MD', 'NPS-HL', 'NPS$', 'WP$', 'NN-TL-HL', 'CC-HL', 'PPS+BEZ', 'AP-TL', 'UH-TL', 'BEZ-HL', 'TO-HL', 'DO*', 'VBN-TL-HL', 'NNS-TL-HL', 'DT-HL', 'BE-HL', 'DOZ*', 'QLP', 'JJR-HL', 'PPSS+HVD', 'FW-IN+NN', 'PP$$', 'JJT-HL', 'NP-TL-HL', 'NPS-TL', 'MD+HV', 'NP$-TL', 'OD-HL', 'JJR-TL', 'VBD-TL', 'DT+BEZ', 'EX+BEZ', 'PPSS+HV', ':-HL', 'PPS+MD', 'UH', 'FW-CC', 'FW-NNS', 'BEDZ-HL', 'NN$-HL', '.-HL', 'HVD*', 'BEZ*', 'AP$', 'NP+BEZ', 'FW-AT-TL', 'VB-TL', 'RB-TL', 'MD-TL', 'PN+HVZ', 'FW-JJ-TL', 'FW-NN-TL', 'ABN-HL', 'PPS+BEZ-HL', 'NR-HL', 'HVD-HL', 'RB$', 'FW-AT-HL', 'DO-HL', 'PP$-TL', 'FW-IN-TL', 'WPS+BEZ', '*-HL', 'DTI-HL', 'PN-HL', 'CD$', 'BER*', 'NNS$-HL', 'PN$', 'BER-TL', 'TO-TL', 'FW-JJ', 'BED*', 'RB+BEZ', 'VB+PPO', 'PPSS-HL', 'HVZ*', 'FW-IN+NN-TL', 'FW-IN+AT-TL', 'NN-NC', 'JJ-NC', 'NR$-TL', 'FW-PP$-NC', 'FW-VB', 'FW-VB-NC', 'JJR-NC', 'NPS$-TL', 'QL-TL', 'FW-AT', 'FW-*', 'FW-CD', 'WQL', 'FW-WDT', 'WDT+BEZ'])"
      ]
     },
     "execution_count": 19,
     "metadata": {},
     "output_type": "execute_result"
    }
   ],
   "source": [
    "#画图"
   ]
  },
  {
   "cell_type": "markdown",
   "metadata": {},
   "source": [
    "经常出现在名词之前的词性"
   ]
  },
  {
   "cell_type": "code",
   "execution_count": null,
   "metadata": {
    "collapsed": true
   },
   "outputs": [],
   "source": []
  },
  {
   "cell_type": "markdown",
   "metadata": {},
   "source": [
    "新闻文本中最常见的动词"
   ]
  },
  {
   "cell_type": "code",
   "execution_count": null,
   "metadata": {
    "collapsed": true
   },
   "outputs": [],
   "source": []
  },
  {
   "cell_type": "markdown",
   "metadata": {},
   "source": [
    "### 关于词性的条件频率表"
   ]
  },
  {
   "cell_type": "markdown",
   "metadata": {},
   "source": [
    "给定词，按频率降序输出词性列表"
   ]
  },
  {
   "cell_type": "code",
   "execution_count": null,
   "metadata": {
    "collapsed": true
   },
   "outputs": [],
   "source": [
    "cfdl = nltk.ConditionalFreqDist(wsj)\n",
    "cfdl['yeild']"
   ]
  },
  {
   "cell_type": "code",
   "execution_count": null,
   "metadata": {
    "collapsed": true
   },
   "outputs": [],
   "source": []
  },
  {
   "cell_type": "markdown",
   "metadata": {},
   "source": [
    "给定词性，按频率降序输出词性列表"
   ]
  },
  {
   "cell_type": "code",
   "execution_count": null,
   "metadata": {
    "collapsed": true
   },
   "outputs": [],
   "source": []
  },
  {
   "cell_type": "code",
   "execution_count": null,
   "metadata": {
    "collapsed": true
   },
   "outputs": [],
   "source": []
  }
 ],
 "metadata": {
  "kernelspec": {
   "display_name": "Python 3",
   "language": "python",
   "name": "python3"
  },
  "language_info": {
   "codemirror_mode": {
    "name": "ipython",
    "version": 3
   },
   "file_extension": ".py",
   "mimetype": "text/x-python",
   "name": "python",
   "nbconvert_exporter": "python",
   "pygments_lexer": "ipython3",
   "version": "3.6.0"
  }
 },
 "nbformat": 4,
 "nbformat_minor": 2
}
